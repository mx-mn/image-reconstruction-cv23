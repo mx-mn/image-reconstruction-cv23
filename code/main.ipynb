{
 "cells": [
  {
   "cell_type": "code",
   "execution_count": 25,
   "metadata": {},
   "outputs": [
    {
     "name": "stdout",
     "output_type": "stream",
     "text": [
      "The autoreload extension is already loaded. To reload it, use:\n",
      "  %reload_ext autoreload\n"
     ]
    }
   ],
   "source": [
    "%load_ext autoreload\n",
    "%autoreload 2\n",
    "import sys\n",
    "sys.path.append(\"./\")\n",
    "\n",
    "import torch\n",
    "from torch import nn\n",
    "import torch.nn.functional as F"
   ]
  },
  {
   "cell_type": "code",
   "execution_count": 33,
   "metadata": {},
   "outputs": [],
   "source": [
    "class TestNet(nn.Module):\n",
    "    '''The network from https://arxiv.org/pdf/1606.08921v3.pdf'''\n",
    "    def __init__(\n",
    "            self, \n",
    "            in_channels,  # Number of Channels in our Focal Stack\n",
    "            out_channels,  # Number of Channels in the output image, which is 1, grayscale\n",
    "            kernel_size,  # Figure 10 in the paper shows filter sizes. read what is in the paper [Experiments 5.1.]\n",
    "            num_filters,  # the number of filters / feature maps per layer. [Experiments 5.1.] More is better and more expensive.\n",
    "            step_size,  # the step size of the residual connections. Fig. 12. The PSNR values on the validation set during training.\n",
    "        ):\n",
    "        super(TestNet, self).__init__()\n",
    "        self.conv = nn.Conv2d(\n",
    "            in_channels, \n",
    "            num_filters, \n",
    "            kernel_size, \n",
    "        )\n",
    "\n",
    "        self.deconv = nn.ConvTranspose2d(\n",
    "            num_filters, \n",
    "            out_channels, \n",
    "            kernel_size, \n",
    "        )\n",
    "\n",
    "    def forward(self, x):\n",
    "        # WARNIGN! hacky adaptation. The residual must have same shape to what it is added to.\n",
    "        # taking the mean works, but I dont know if that breaks the whole thing. Could work though, worth a try.\n",
    "        residual = x.mean(axis=1)\n",
    "\n",
    "        out = self.conv(x)\n",
    "        out = self.deconv(out)\n",
    "\n",
    "        out += residual\n",
    "        out = F.relu(out)\n",
    "        return out\n",
    "\n",
    "\n",
    "batch_size = 1\n",
    "C = num_focal_planes = 5\n",
    "H, W = 512,512\n",
    "\n",
    "model = TestNet(\n",
    "    in_channels=C,\n",
    "    out_channels=1,\n",
    "    kernel_size=3,\n",
    "    num_filters=10,\n",
    "    step_size=None\n",
    ")\n",
    "\n",
    "x = torch.ones(torch.Size([batch_size,C,H,W]))\n",
    "y = model(x)\n",
    "\n",
    "assert y.shape == torch.Size([batch_size, 1, H, W])\n"
   ]
  }
 ],
 "metadata": {
  "kernelspec": {
   "display_name": "base",
   "language": "python",
   "name": "python3"
  },
  "language_info": {
   "codemirror_mode": {
    "name": "ipython",
    "version": 3
   },
   "file_extension": ".py",
   "mimetype": "text/x-python",
   "name": "python",
   "nbconvert_exporter": "python",
   "pygments_lexer": "ipython3",
   "version": "3.9.16"
  }
 },
 "nbformat": 4,
 "nbformat_minor": 2
}
