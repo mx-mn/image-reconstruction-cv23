{
 "cells": [
  {
   "cell_type": "code",
   "execution_count": null,
   "metadata": {},
   "outputs": [],
   "source": [
    "# this is needed when importing from a local module \n",
    "%load_ext autoreload\n",
    "%autoreload 2\n",
    "import sys\n",
    "sys.path.append(\"./\")\n",
    "\n",
    "from pathlib import Path\n",
    "from generate_dataset import extract_data_from_folders, store_as_npz\n",
    "from tqdm import tqdm"
   ]
  },
  {
   "cell_type": "code",
   "execution_count": null,
   "metadata": {},
   "outputs": [],
   "source": [
    "base = Path('..') / 'data'\n",
    "source = base / 'Part_01'\n",
    "target = base / 'Part_01_delete'\n",
    "target.mkdir(parents=True, exist_ok=True)\n",
    "\n",
    "# only take these focal planes\n",
    "subset=['00', '40', '80', '120', '160', '200']\n",
    "\n",
    "# find all subdirectories of the Part\n",
    "dirs = [f for f in source.iterdir() if f.is_dir()]\n",
    "\n",
    "# sort them alphabetically, just for consistency when using 'the first 10' for example\n",
    "dirs_of_samples = list(sorted(dirs, key=lambda x : int(str(x.stem).split('_')[-1])))\n",
    "\n",
    "\n",
    "for i, folder in tqdm(enumerate(dirs_of_samples), total=len(dirs_of_samples)):\n",
    "\n",
    "    # convert to numpy arrays\n",
    "    x, y, pose, trees = extract_data_from_folders(folder, subset, crop=True)\n",
    "\n",
    "    # store\n",
    "    store_as_npz(target / f'sample_{i}', x, y, pose, trees)\n"
   ]
  }
 ],
 "metadata": {
  "kernelspec": {
   "display_name": "Python 3",
   "language": "python",
   "name": "python3"
  },
  "language_info": {
   "codemirror_mode": {
    "name": "ipython",
    "version": 3
   },
   "file_extension": ".py",
   "mimetype": "text/x-python",
   "name": "python",
   "nbconvert_exporter": "python",
   "pygments_lexer": "ipython3",
   "version": "3.11.0"
  }
 },
 "nbformat": 4,
 "nbformat_minor": 2
}
