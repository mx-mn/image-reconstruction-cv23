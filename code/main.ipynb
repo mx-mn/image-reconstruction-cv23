{
 "cells": [
  {
   "cell_type": "code",
   "execution_count": 1,
   "metadata": {},
   "outputs": [],
   "source": [
    "%load_ext autoreload\n",
    "%autoreload 2\n",
    "import sys\n",
    "sys.path.append(\"./\")\n",
    "\n",
    "from models import REDNet\n",
    "import keras\n",
    "from utils import PredictionCallback, plot_history\n",
    "from dataset import load"
   ]
  },
  {
   "cell_type": "code",
   "execution_count": null,
   "metadata": {},
   "outputs": [],
   "source": [
    "x, y, labels = load('../data/_mini.npz', normalize=True)\n",
    "\n",
    "# compile the model\n",
    "model: keras.models.Model = REDNet(\n",
    "    num_layers=5, \n",
    "    num_features=64, \n",
    "    channel_size=x.shape[-1]\n",
    ")\n",
    "\n",
    "opt = keras.optimizers.Adam(\n",
    "    learning_rate=0.0001\n",
    ")\n",
    "loss = keras.losses.MeanSquaredError(\n",
    "    reduction=\"sum_over_batch_size\", \n",
    "    name=\"mse\"\n",
    ")\n",
    "\n",
    "model.compile(loss=loss,optimizer=opt)\n",
    "\n",
    "prediction_callback = PredictionCallback(interval=1, x_val=x[:20], y_val=y[:20])"
   ]
  },
  {
   "cell_type": "code",
   "execution_count": null,
   "metadata": {},
   "outputs": [],
   "source": [
    "# train on the dataset\n",
    "history = model.fit(x, y, batch_size=128, epochs=1, validation_split=0.1, callbacks=[prediction_callback])\n",
    "plot_history(history)"
   ]
  }
 ],
 "metadata": {
  "kernelspec": {
   "display_name": "Python 3",
   "language": "python",
   "name": "python3"
  },
  "language_info": {
   "codemirror_mode": {
    "name": "ipython",
    "version": 3
   },
   "file_extension": ".py",
   "mimetype": "text/x-python",
   "name": "python",
   "nbconvert_exporter": "python",
   "pygments_lexer": "ipython3",
   "version": "3.11.0"
  }
 },
 "nbformat": 4,
 "nbformat_minor": 2
}
