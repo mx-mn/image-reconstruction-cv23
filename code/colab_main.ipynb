{
  "cells": [
    {
      "cell_type": "markdown",
      "metadata": {},
      "source": [
        "# Colab"
      ]
    },
    {
      "cell_type": "code",
      "execution_count": null,
      "metadata": {
        "colab": {
          "base_uri": "https://localhost:8080/"
        },
        "id": "RTU4l8getQ79",
        "outputId": "75461356-cb98-45a6-f385-058191bd6b6f"
      },
      "outputs": [],
      "source": [
        "from google.colab import drive\n",
        "drive.mount('/content/drive')"
      ]
    },
    {
      "cell_type": "code",
      "execution_count": null,
      "metadata": {
        "id": "P99wDod7uhnz"
      },
      "outputs": [],
      "source": [
        "# enter the models here\n",
        "import keras\n",
        "from keras.callbacks import Callback\n",
        "from keras.layers import Input, Conv2D, Conv2DTranspose, Add, Activation\n",
        "from keras.models import Model\n",
        "import tensorflow as tf\n",
        "import matplotlib.pyplot as plt\n",
        "import numpy as np\n",
        "from pathlib import Path"
      ]
    },
    {
      "cell_type": "code",
      "execution_count": null,
      "metadata": {
        "colab": {
          "base_uri": "https://localhost:8080/"
        },
        "id": "TU3cqlrtuqle",
        "outputId": "b42eef3c-845a-4852-da92-ea197207c79a"
      },
      "outputs": [],
      "source": [
        "print('GPU name: ', tf.config.experimental.list_physical_devices('GPU'))\n",
        "\n",
        "base = Path.cwd() / 'drive' / 'MyDrive' / 'cvue23' / 'data'\n",
        "base.exists()\n"
      ]
    },
    {
      "cell_type": "code",
      "execution_count": null,
      "metadata": {
        "id": "p7MK0yc5tadN"
      },
      "outputs": [],
      "source": [
        "\n",
        "# for debugging\n",
        "def plot_image_grid(images_array, grid_width=10, grid_height=10):\n",
        "\n",
        "    if images_array.shape[0] != grid_width * grid_height:\n",
        "        raise ValueError(\"The number of images does not match the grid size.\")\n",
        "\n",
        "    fig, axes = plt.subplots(grid_height, grid_width, figsize=(grid_width, grid_height))\n",
        "\n",
        "    for i, ax in enumerate(axes.flatten()):\n",
        "        ax.imshow(images_array[i], cmap='gray', interpolation='none')\n",
        "        ax.axis('off')\n",
        "\n",
        "    plt.tight_layout()\n",
        "    plt.show()\n",
        "\n",
        "def load_data(path):\n",
        "  # load the mini dataset\n",
        "  loaded = np.load(path)\n",
        "  x, y, labels = loaded['x'], loaded['y'], loaded['labels']\n",
        "\n",
        "  # normalize dataset\n",
        "  assert y.max() == 255\n",
        "  assert x.max() == 255\n",
        "\n",
        "  y = y / 255\n",
        "  x = x / 255\n",
        "  return x, y, labels\n",
        "\n",
        "def encoder(x, num_features, num_layers, residual_every=2):\n",
        "    x = Conv2D(num_features, kernel_size=3, strides=2, padding='same', activation='relu')(x)\n",
        "\n",
        "    # Save the output of conv layers at even indices\n",
        "    residuals = []\n",
        "\n",
        "    # Encoder\n",
        "    for i in range(num_layers - 1):\n",
        "        x = Conv2D(num_features, kernel_size=3, padding='same', activation='relu')(x)\n",
        "        if (i + 1) % residual_every == 0:\n",
        "            residuals.append(x)\n",
        "\n",
        "    return x, residuals\n",
        "\n",
        "def decoder(x, num_features, num_layers, residuals, residual_every=2):\n",
        "\n",
        "    # Decoder\n",
        "    for i in range(num_layers - 1):\n",
        "        x = Conv2DTranspose(num_features, kernel_size=3, padding='same')(x)\n",
        "\n",
        "        if (i + 1 + num_layers) % residual_every == 0 and residuals:\n",
        "            res = residuals.pop()\n",
        "            x = Add()([x, res])\n",
        "\n",
        "        x = Activation('relu')(x)\n",
        "\n",
        "    if residuals: raise ValueError('There are unused residual connections')\n",
        "\n",
        "    # create 1-channel output\n",
        "    x = Conv2DTranspose(1, kernel_size=3, strides=2, padding='same')(x)\n",
        "\n",
        "    return x\n",
        "\n",
        "def REDNet(num_layers, num_features, channel_size):\n",
        "    '''Model definition with keras functional layers api'''\n",
        "\n",
        "    inputs = Input(shape=(None, None, channel_size))\n",
        "\n",
        "    x, residuals = encoder(inputs, num_features, num_layers)\n",
        "\n",
        "    x = decoder(x, num_features, num_layers, residuals)\n",
        "\n",
        "    # Add input residual, needed to do 1x1 conv to adapt channels\n",
        "    residual = Conv2DTranspose(1, kernel_size=1, padding='same')(inputs)\n",
        "    outputs = Add()([x, residual])\n",
        "    outputs = Activation('relu')(outputs)\n",
        "\n",
        "    # Create model\n",
        "    model = Model(inputs=inputs, outputs=outputs, name=f'REDNet{num_layers*2}')\n",
        "    return model\n",
        "\n",
        "\n",
        "\n",
        "class PredictionCallback(Callback):\n",
        "    def __init__(self, interval, x_val, y_val):\n",
        "        super(PredictionCallback, self).__init__()\n",
        "        self.interval = interval\n",
        "        self.x_val = x_val\n",
        "        self.y_val = y_val\n",
        "\n",
        "    def on_epoch_end(self, epoch, logs={}):\n",
        "        if epoch % self.interval == 0:\n",
        "            preds = self.model.predict(self.x_val).squeeze()\n",
        "            plot_image_grid(np.concatenate([self.y_val, preds]), preds.shape[0], 2)"
      ]
    },
    {
      "cell_type": "code",
      "execution_count": null,
      "metadata": {
        "id": "_1RuZQWzwBxX"
      },
      "outputs": [],
      "source": [
        "x, y, labels = load_data(base / '_mini.npz')"
      ]
    },
    {
      "cell_type": "code",
      "execution_count": null,
      "metadata": {
        "id": "L-1D9y9dvuyA"
      },
      "outputs": [],
      "source": [
        "# compile the model\n",
        "\n",
        "model = REDNet(\n",
        "    num_layers=5,\n",
        "    num_features=64,\n",
        "    channel_size=x.shape[-1]\n",
        ")\n",
        "\n",
        "opt = keras.optimizers.Adam(\n",
        "    learning_rate=0.0001\n",
        ")\n",
        "loss = keras.losses.MeanSquaredError(\n",
        "    reduction=\"sum_over_batch_size\",\n",
        "    name=\"mse\"\n",
        ")\n",
        "\n",
        "prediction_callback = PredictionCallback(interval=10, x_val=x[:20], y_val=y[:20])\n",
        "\n",
        "model.compile(loss=loss,optimizer=opt)"
      ]
    },
    {
      "cell_type": "code",
      "execution_count": null,
      "metadata": {
        "colab": {
          "base_uri": "https://localhost:8080/",
          "height": 1000
        },
        "id": "WdV3uwPPv2AO",
        "outputId": "e445263c-6f1b-44e2-847f-b56d3eeba2ae"
      },
      "outputs": [],
      "source": [
        "# train on the dataset\n",
        "history = model.fit(\n",
        "    x, y,\n",
        "    batch_size=16,\n",
        "    epochs=100,\n",
        "    validation_split=0.1,\n",
        "    callbacks=[prediction_callback]\n",
        ")"
      ]
    },
    {
      "cell_type": "code",
      "execution_count": null,
      "metadata": {
        "id": "4xwUbeU7yMK0"
      },
      "outputs": [],
      "source": [
        "# Save the weights\n",
        "model.save_weights(base.parent / 'models' / 'after_100_ep')\n"
      ]
    },
    {
      "cell_type": "code",
      "execution_count": null,
      "metadata": {
        "colab": {
          "base_uri": "https://localhost:8080/",
          "height": 472
        },
        "id": "RB7zvrY20mGS",
        "outputId": "0cf95723-3fbc-4439-8c20-5838f76997fb"
      },
      "outputs": [],
      "source": [
        "plt.plot(history.history['loss'])\n",
        "plt.plot(history.history['val_loss'])\n",
        "plt.title('MSE Loss')\n",
        "plt.ylabel('loss')\n",
        "plt.xlabel('epoch')\n",
        "plt.legend(['train', 'val'], loc='upper left')\n",
        "plt.show()"
      ]
    },
    {
      "cell_type": "code",
      "execution_count": null,
      "metadata": {
        "id": "hfau8Jrm2EH8"
      },
      "outputs": [],
      "source": []
    },
    {
      "cell_type": "code",
      "execution_count": null,
      "metadata": {
        "id": "ubKgJzZ4E5VM"
      },
      "outputs": [],
      "source": []
    },
    {
      "cell_type": "code",
      "execution_count": null,
      "metadata": {
        "id": "TgHeDya4E5na"
      },
      "outputs": [],
      "source": []
    }
  ],
  "metadata": {
    "accelerator": "GPU",
    "colab": {
      "gpuType": "T4",
      "provenance": []
    },
    "kernelspec": {
      "display_name": "Python 3",
      "name": "python3"
    },
    "language_info": {
      "name": "python"
    }
  },
  "nbformat": 4,
  "nbformat_minor": 0
}
