{
 "cells": [
  {
   "cell_type": "code",
   "execution_count": null,
   "metadata": {},
   "outputs": [],
   "source": [
    "import keras\n",
    "import random\n",
    "import numpy as np\n",
    "from pathlib import Path\n",
    "from PIL import Image\n",
    "from utils import DataGenerator\n",
    "import matplotlib.pyplot as plt\n",
    "\n",
    "root = Path.cwd().parent"
   ]
  },
  {
   "cell_type": "code",
   "execution_count": null,
   "metadata": {},
   "outputs": [],
   "source": [
    "model = keras.saving.load_model(root / 'models' / 'MAE_ep108_loss0.0043.keras')\n",
    "loss = keras.losses.MeanSquaredError( reduction=\"sum_over_batch_size\")\n",
    "model.compile(loss=loss,optimizer=model.optimizer)"
   ]
  },
  {
   "cell_type": "code",
   "execution_count": null,
   "metadata": {},
   "outputs": [],
   "source": [
    "validation_dataset = DataGenerator(root / 'data' / 'validation' / 'crop' / 'npz', 128)\n",
    "model.evaluate(validation_dataset)"
   ]
  },
  {
   "cell_type": "code",
   "execution_count": null,
   "metadata": {},
   "outputs": [],
   "source": [
    "def to_pil(img):\n",
    "\n",
    "    assert not np.isnan(img).any(), 'NAN'\n",
    "\n",
    "    #grayscale_img = ((img - img.min()) * (1/(img.max() - img.min()) * 255)).astype('uint8')\n",
    "    image = Image.fromarray(img.squeeze().astype('uint8'))\n",
    "    return image\n",
    "\n",
    "def npz_to_png(dataset, folder: Path):\n",
    "    dataset.batch_size = None\n",
    "    x,y = dataset[0]\n",
    "    for stack, gt, filename in zip(x, y, dataset.filenames):\n",
    "        sample_folder: Path = folder  / filename.split('.')[0]\n",
    "        sample_folder.mkdir(exist_ok=True, parents=True)\n",
    "        to_pil(gt.squeeze()).save(sample_folder / f'gt.png')\n",
    "        for i, focal in enumerate(['000','040', '080', '120', '160', '200']):\n",
    "            plane = stack[:,:,i]\n",
    "            to_pil(plane).save(sample_folder / f'{focal}.png')"
   ]
  },
  {
   "cell_type": "code",
   "execution_count": null,
   "metadata": {},
   "outputs": [],
   "source": [
    "path = root / 'data' / 'test' / 'cases' / 'npz'\n",
    "for p in path.iterdir():\n",
    "    target = path.parent / 'images' / p.name\n",
    "    target.mkdir(exist_ok=True, parents=True)\n",
    "    npz_to_png(DataGenerator(p),target)"
   ]
  },
  {
   "cell_type": "code",
   "execution_count": null,
   "metadata": {},
   "outputs": [],
   "source": [
    "npz_to_png(\n",
    "    DataGenerator(root / 'data' / 'test' / 'original' / 'npz'),\n",
    "    root / 'data' / 'test' / 'original' /'images'\n",
    ")"
   ]
  },
  {
   "cell_type": "code",
   "execution_count": null,
   "metadata": {},
   "outputs": [],
   "source": [
    "# create the filtered datasets\n",
    "if False:\n",
    "    import shutil\n",
    "    datasets = dict()\n",
    "    trees = [0,100,200]\n",
    "    poses = ['no_person', 'idle','sitting', 'laying']\n",
    "    for tree in trees:\n",
    "        for pose in poses:\n",
    "            dataset = DataGenerator(\n",
    "                basedir=root / 'data' /'test'/ 'original' / 'npz', \n",
    "                included_trees=[tree], \n",
    "                included_poses=[pose],\n",
    "                only_use_n=45,\n",
    "                shuffle=True,\n",
    "            )\n",
    "            datasets[str(tree)+'_trees_'+pose] =  dataset\n",
    "            target = root / 'data' / 'test' / 'cases'/ 'npz' / (str(tree)+'_trees_'+pose)\n",
    "            target.mkdir(exist_ok=True, parents=True)\n",
    "            print(len(dataset.filenames))\n",
    "            for filename in dataset.filenames:\n",
    "                shutil.copyfile(dataset.basedir / filename, target / filename)"
   ]
  },
  {
   "cell_type": "code",
   "execution_count": null,
   "metadata": {},
   "outputs": [],
   "source": [
    "path = root / 'data' / 'test' / 'cases' / 'npz'\n",
    "performance = dict()\n",
    "for p in path.iterdir():\n",
    "    dataset = DataGenerator(p, 45)\n",
    "    performance[p.stem] = model.evaluate(dataset)"
   ]
  },
  {
   "cell_type": "code",
   "execution_count": null,
   "metadata": {},
   "outputs": [],
   "source": [
    "performance"
   ]
  },
  {
   "cell_type": "code",
   "execution_count": null,
   "metadata": {},
   "outputs": [],
   "source": [
    "plt.figure(figsize=(6, 6))\n",
    "plt.plot([0,100,200], 3*[np.mean(list(performance.values()))], linestyle='--', color='red', label='average', alpha=0.5, linewidth=2,)\n",
    "for pose in  ['no_person', 'idle','sitting', 'laying']:\n",
    "    posedict = {k:v for k,v in performance.items() if pose in k}\n",
    "    sorted_items = sorted(posedict.items(), key=lambda x: int(x[0].split('_')[0]))\n",
    "    sorted_keys = [ int(item[0].split('_')[0]) for item in sorted_items]\n",
    "    sorted_values = [item[1] for item in sorted_items]\n",
    "    plt.plot(sorted_keys, sorted_values, marker='o', alpha=0.5, linewidth=2, label=pose)\n",
    "\n",
    "plt.xticks([0,100,200], [0,100,200])\n",
    "plt.xlabel('number of trees per ha')\n",
    "plt.ylabel('test loss')\n",
    "plt.title('Test loss by pose')\n",
    "plt.legend()\n",
    "plt.tight_layout()\n",
    "plt.savefig('test-loss-by-trees-and-pose.png')"
   ]
  },
  {
   "cell_type": "code",
   "execution_count": null,
   "metadata": {},
   "outputs": [],
   "source": []
  }
 ],
 "metadata": {
  "kernelspec": {
   "display_name": "Python 3",
   "language": "python",
   "name": "python3"
  },
  "language_info": {
   "codemirror_mode": {
    "name": "ipython",
    "version": 3
   },
   "file_extension": ".py",
   "mimetype": "text/x-python",
   "name": "python",
   "nbconvert_exporter": "python",
   "pygments_lexer": "ipython3",
   "version": "3.11.7"
  }
 },
 "nbformat": 4,
 "nbformat_minor": 2
}
