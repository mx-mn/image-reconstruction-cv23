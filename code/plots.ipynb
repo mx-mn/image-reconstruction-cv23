{
 "cells": [
  {
   "cell_type": "code",
   "execution_count": null,
   "metadata": {},
   "outputs": [],
   "source": [
    "#0-39 with LRSchedule\n",
    "#40-60 with 0.0001\n",
    "# after 60 train with full size images and split off a small validation set\n",
    "\n",
    "import pandas as pd\n",
    "import matplotlib.pyplot as plt"
   ]
  },
  {
   "cell_type": "code",
   "execution_count": null,
   "metadata": {},
   "outputs": [],
   "source": [
    "raw_df = pd.read_csv('./metrics.csv')\n",
    "df = raw_df.drop('epoch', axis=1)\n",
    "df = df[:60]  # ignore the training on valset\n",
    "min_val_loss = df['val_loss'].min()\n",
    "ax = df.plot(title=f'Training and Validation Loss \\n best val loss:{min_val_loss:.4f}', marker='.', figsize=(16,9), alpha=0.6, xlabel='Epochs')"
   ]
  },
  {
   "cell_type": "code",
   "execution_count": null,
   "metadata": {},
   "outputs": [],
   "source": [
    "raw_df = pd.read_csv('./metrics.csv')\n",
    "df = raw_df.drop('epoch', axis=1)\n",
    "df = df[71:-1]  # ignore the training on valset\n",
    "min_val_loss = df['val_loss'].min()\n",
    "ax = df.plot(title=f'Training and Validation Loss \\n best val loss:{min_val_loss:.4f}', marker='.', figsize=(16,9), alpha=0.6, xlabel='Epochs')\n"
   ]
  },
  {
   "cell_type": "code",
   "execution_count": null,
   "metadata": {},
   "outputs": [],
   "source": [
    "raw_df = pd.read_csv('./metrics.csv')\n",
    "df = raw_df.drop('epoch', axis=1)\n",
    "df = df.drop(range(60,len(df)-1)).reset_index(drop=True)\n",
    "df = df.drop(range(40))\n",
    "\n",
    "min_val_loss = df['val_loss'].min()\n",
    "ax = df.plot(title=f'Last Epochs plus Validation after extra training \\n best val loss:{min_val_loss:.4f}', marker='.', figsize=(16,9), alpha=0.6, xlabel='Epochs')\n",
    "ax.set_yscale('log')"
   ]
  },
  {
   "cell_type": "code",
   "execution_count": null,
   "metadata": {},
   "outputs": [],
   "source": []
  }
 ],
 "metadata": {
  "kernelspec": {
   "display_name": "Python 3",
   "language": "python",
   "name": "python3"
  },
  "language_info": {
   "codemirror_mode": {
    "name": "ipython",
    "version": 3
   },
   "file_extension": ".py",
   "mimetype": "text/x-python",
   "name": "python",
   "nbconvert_exporter": "python",
   "pygments_lexer": "ipython3",
   "version": "3.11.7"
  }
 },
 "nbformat": 4,
 "nbformat_minor": 2
}
