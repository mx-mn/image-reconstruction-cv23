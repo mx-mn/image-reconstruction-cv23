{
 "cells": [
  {
   "cell_type": "code",
   "execution_count": 1,
   "metadata": {},
   "outputs": [],
   "source": [
    "%load_ext autoreload\n",
    "%autoreload 2\n",
    "import sys\n",
    "sys.path.append(\"./\")\n",
    "\n",
    "import keras\n",
    "from utils import *"
   ]
  },
  {
   "cell_type": "code",
   "execution_count": null,
   "metadata": {},
   "outputs": [],
   "source": [
    "# compile the model\n",
    "model = REDNet(\n",
    "    num_layers=9,\n",
    "    num_features=64,\n",
    "    channel_size=6\n",
    ")\n",
    "\n",
    "opt = keras.optimizers.Adam(\n",
    "    learning_rate=0.00001\n",
    ")\n",
    "\n",
    "loss = keras.losses.MeanSquaredError(\n",
    "    reduction=\"sum_over_batch_size\",\n",
    "    name=\"mse\"\n",
    ")\n",
    "data_generator = DataGenerator(Path('..') / 'data' / 'person_occluded_part_1', batch_size=32)\n",
    "\n",
    "\n",
    "#prediction_callback = PredictionCallback(interval=2, x_val=x_val[:8], y_val=y_val[:8])\n",
    "model.compile(loss=loss,optimizer=opt)\n"
   ]
  },
  {
   "cell_type": "code",
   "execution_count": null,
   "metadata": {},
   "outputs": [],
   "source": [
    "# train on the dataset\n",
    "data_generator = DataGenerator(Path('..') / 'data' / 'person_occluded_part_1', batch_size=32)\n",
    "\n",
    "history = model.fit(\n",
    "    x=data_generator, \n",
    "    batch_size=None, \n",
    "    epochs=1, \n",
    "    validation_split=0.1, \n",
    "    #callbacks=[prediction_callback]\n",
    ")\n",
    "plot_history(history)"
   ]
  }
 ],
 "metadata": {
  "kernelspec": {
   "display_name": "Python 3",
   "language": "python",
   "name": "python3"
  },
  "language_info": {
   "codemirror_mode": {
    "name": "ipython",
    "version": 3
   },
   "file_extension": ".py",
   "mimetype": "text/x-python",
   "name": "python",
   "nbconvert_exporter": "python",
   "pygments_lexer": "ipython3",
   "version": "3.11.0"
  }
 },
 "nbformat": 4,
 "nbformat_minor": 2
}
