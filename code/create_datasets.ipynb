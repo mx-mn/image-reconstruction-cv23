{
 "cells": [
  {
   "cell_type": "code",
   "execution_count": null,
   "metadata": {},
   "outputs": [],
   "source": [
    "%load_ext autoreload\n",
    "%autoreload 2\n",
    "import sys\n",
    "sys.path.append(\"./\")\n",
    "\n",
    "from pathlib import Path\n",
    "from dataset_generation import folder_to_dataset\n",
    "import utils\n",
    "import numpy as np\n",
    "\n",
    "base = Path('..') / 'data' / 'Part_01'\n",
    "subset=['00', '40', '80', '120', '160', '200']"
   ]
  },
  {
   "cell_type": "code",
   "execution_count": null,
   "metadata": {},
   "outputs": [],
   "source": [
    "path = base.parent / 'crop_1'\n",
    "path.mkdir(parents=True, exist_ok=True)\n",
    "\n",
    "for i, (x, y, labels) in enumerate(folder_to_dataset(base, subset, crop=True, shuffle=True, batch_size=1)):\n",
    "    np.savez(path / f'sample_{i}', x=x, y=y, labels=labels)"
   ]
  },
  {
   "cell_type": "code",
   "execution_count": null,
   "metadata": {},
   "outputs": [],
   "source": [
    "x, y, labels = folder_to_dataset(base, subset, crop=False, n=100, random=True)\n",
    "dataset.print_labels(labels)\n",
    "utils.plot_image_grid(x[:,:,:,1])\n",
    "np.savez_compressed(base.parent / 'part_1_original_test_100', x=x, y=y, labels=labels)"
   ]
  },
  {
   "cell_type": "code",
   "execution_count": null,
   "metadata": {},
   "outputs": [],
   "source": [
    "x, y, labels = dataset.folder_to_dataset(base, subset, crop=False, n=1000, random=True)\n",
    "dataset.print_labels(labels)\n",
    "np.savez_compressed(base.parent / 'part_1_original_test_1000', x=x, y=y, labels=labels)"
   ]
  },
  {
   "cell_type": "code",
   "execution_count": null,
   "metadata": {},
   "outputs": [],
   "source": [
    "\n"
   ]
  },
  {
   "cell_type": "code",
   "execution_count": null,
   "metadata": {},
   "outputs": [],
   "source": [
    "x, y, labels = loaded['x'], loaded['y'], loaded['labels']\n",
    "for v, c in zip(*np.unique(labels, return_counts=True)):\n",
    "    print(f'{dataset.map_label_to_name[v]}({v}) : {c} times')\n",
    "dataset.plot_image_grid(y[0:400], 20, 20)\n",
    "dataset.plot_image_grid(x[0:400,:,:,0], 20, 20)"
   ]
  },
  {
   "cell_type": "code",
   "execution_count": null,
   "metadata": {},
   "outputs": [],
   "source": []
  },
  {
   "cell_type": "code",
   "execution_count": null,
   "metadata": {},
   "outputs": [],
   "source": []
  },
  {
   "cell_type": "code",
   "execution_count": null,
   "metadata": {},
   "outputs": [],
   "source": []
  }
 ],
 "metadata": {
  "kernelspec": {
   "display_name": "Python 3",
   "language": "python",
   "name": "python3"
  },
  "language_info": {
   "codemirror_mode": {
    "name": "ipython",
    "version": 3
   },
   "file_extension": ".py",
   "mimetype": "text/x-python",
   "name": "python",
   "nbconvert_exporter": "python",
   "pygments_lexer": "ipython3",
   "version": "3.11.0"
  }
 },
 "nbformat": 4,
 "nbformat_minor": 2
}
